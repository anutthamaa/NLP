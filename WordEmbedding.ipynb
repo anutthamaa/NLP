{
 "cells": [
  {
   "cell_type": "code",
   "execution_count": 1,
   "id": "1985b124-dac2-474d-875d-69cb83613d42",
   "metadata": {},
   "outputs": [],
   "source": [
    "import tensorflow as tf"
   ]
  },
  {
   "cell_type": "code",
   "execution_count": 2,
   "id": "3c8670fa-3a76-49ba-a247-1bca969dd561",
   "metadata": {},
   "outputs": [
    {
     "name": "stdout",
     "output_type": "stream",
     "text": [
      "2.12.0\n"
     ]
    }
   ],
   "source": [
    "print(tf.__version__)"
   ]
  },
  {
   "cell_type": "code",
   "execution_count": 3,
   "id": "c77da91c-35f0-41a7-9626-cd8d298b9817",
   "metadata": {},
   "outputs": [
    {
     "data": {
      "text/plain": [
       "['the glass of milk',\n",
       " 'the glass of juice',\n",
       " 'the cup of tea',\n",
       " 'I am a good boy',\n",
       " 'I am a good developer',\n",
       " 'understand the meaning of words',\n",
       " 'your videos are good']"
      ]
     },
     "execution_count": 3,
     "metadata": {},
     "output_type": "execute_result"
    }
   ],
   "source": [
    "### Sentences\n",
    "sent=[  'the glass of milk',\n",
    "     'the glass of juice',\n",
    "     'the cup of tea',\n",
    "    'I am a good boy',\n",
    "     'I am a good developer',\n",
    "     'understand the meaning of words',\n",
    "     'your videos are good']\n",
    "sent"
   ]
  },
  {
   "cell_type": "markdown",
   "id": "0fc26bba-b408-4cef-85e7-e669f5fafb25",
   "metadata": {},
   "source": [
    "### One hot representation"
   ]
  },
  {
   "cell_type": "code",
   "execution_count": 4,
   "id": "ec5c5fe3-c4b5-415e-8a35-98a017a343d2",
   "metadata": {},
   "outputs": [
    {
     "data": {
      "text/plain": [
       "[[33, 38, 207, 28],\n",
       " [33, 38, 207, 30],\n",
       " [33, 248, 207, 282],\n",
       " [36, 147, 76, 37, 247],\n",
       " [36, 147, 76, 37, 217],\n",
       " [146, 33, 286, 207, 87],\n",
       " [282, 276, 75, 37]]"
      ]
     },
     "execution_count": 4,
     "metadata": {},
     "output_type": "execute_result"
    }
   ],
   "source": [
    "from tensorflow.keras.preprocessing.text import one_hot\n",
    "\n",
    "### Define the vocabulary size\n",
    "vocab_size = 300\n",
    "\n",
    "onehot_repr = [one_hot(input_text=words, n=vocab_size) for words in sent]\n",
    "onehot_repr ### The numbers indicate the indexes where 1 is present for those respective words in one hot encoding"
   ]
  },
  {
   "cell_type": "markdown",
   "id": "0b56de77-78a5-4b40-bc0c-b9c01a4761a7",
   "metadata": {},
   "source": [
    "### Word Embedding "
   ]
  },
  {
   "cell_type": "code",
   "execution_count": 5,
   "id": "cb6facba-53e4-4fac-bc0a-18c519cfe7c9",
   "metadata": {},
   "outputs": [],
   "source": [
    "from tensorflow.keras.layers import Embedding\n",
    "from tensorflow.keras.preprocessing.sequence import pad_sequences\n",
    "from tensorflow.keras.models import Sequential\n",
    "import numpy as np"
   ]
  },
  {
   "cell_type": "code",
   "execution_count": 6,
   "id": "8c92a4b2-5db0-4e36-8379-59f1306dfc8a",
   "metadata": {},
   "outputs": [
    {
     "data": {
      "text/plain": [
       "array([[  0,   0,   0,   0,   0,  33,  38, 207,  28],\n",
       "       [  0,   0,   0,   0,   0,  33,  38, 207,  30],\n",
       "       [  0,   0,   0,   0,   0,  33, 248, 207, 282],\n",
       "       [  0,   0,   0,   0,  36, 147,  76,  37, 247],\n",
       "       [  0,   0,   0,   0,  36, 147,  76,  37, 217],\n",
       "       [  0,   0,   0,   0, 146,  33, 286, 207,  87],\n",
       "       [  0,   0,   0,   0,   0, 282, 276,  75,  37]])"
      ]
     },
     "execution_count": 6,
     "metadata": {},
     "output_type": "execute_result"
    }
   ],
   "source": [
    "### Pre-padding\n",
    "max_sent_length = 9 ## defining the max length of sentence as 9\n",
    "pre_embedded_docs = pad_sequences(sequences=onehot_repr, maxlen=max_sent_length, padding='pre')\n",
    "pre_embedded_docs"
   ]
  },
  {
   "cell_type": "code",
   "execution_count": 7,
   "id": "e968f3b3-030e-4753-b38c-e0b8f0b29044",
   "metadata": {},
   "outputs": [
    {
     "data": {
      "text/plain": [
       "array([[ 33,  38, 207,  28,   0,   0,   0,   0,   0],\n",
       "       [ 33,  38, 207,  30,   0,   0,   0,   0,   0],\n",
       "       [ 33, 248, 207, 282,   0,   0,   0,   0,   0],\n",
       "       [ 36, 147,  76,  37, 247,   0,   0,   0,   0],\n",
       "       [ 36, 147,  76,  37, 217,   0,   0,   0,   0],\n",
       "       [146,  33, 286, 207,  87,   0,   0,   0,   0],\n",
       "       [282, 276,  75,  37,   0,   0,   0,   0,   0]])"
      ]
     },
     "execution_count": 7,
     "metadata": {},
     "output_type": "execute_result"
    }
   ],
   "source": [
    "### Post-padding\n",
    "post_embedded_docs = pad_sequences(sequences=onehot_repr, maxlen=max_sent_length, padding='post')\n",
    "post_embedded_docs"
   ]
  },
  {
   "cell_type": "code",
   "execution_count": 8,
   "id": "4ab5a548-ffd4-4da8-a310-02f2385fabe3",
   "metadata": {},
   "outputs": [],
   "source": [
    "### defining feature representation dimension as 10\n",
    "dimension = 10\n",
    "\n",
    "model = Sequential()\n",
    "model.add(Embedding(input_dim=vocab_size, output_dim=dimension, input_length=max_sent_length))\n",
    "model.compile('adam','mse')"
   ]
  },
  {
   "cell_type": "code",
   "execution_count": 9,
   "id": "e9022837-1ef9-48d7-b07c-6fd421bb8b8d",
   "metadata": {},
   "outputs": [
    {
     "name": "stdout",
     "output_type": "stream",
     "text": [
      "Model: \"sequential\"\n",
      "_________________________________________________________________\n",
      " Layer (type)                Output Shape              Param #   \n",
      "=================================================================\n",
      " embedding (Embedding)       (None, 9, 10)             3000      \n",
      "                                                                 \n",
      "=================================================================\n",
      "Total params: 3,000\n",
      "Trainable params: 3,000\n",
      "Non-trainable params: 0\n",
      "_________________________________________________________________\n"
     ]
    }
   ],
   "source": [
    "model.summary()"
   ]
  },
  {
   "cell_type": "code",
   "execution_count": 10,
   "id": "7f63166c-bfee-41cc-81e4-3c02c8ccb192",
   "metadata": {},
   "outputs": [
    {
     "data": {
      "text/plain": [
       "array([  0,   0,   0,   0,   0,  33,  38, 207,  28])"
      ]
     },
     "execution_count": 10,
     "metadata": {},
     "output_type": "execute_result"
    }
   ],
   "source": [
    "pre_embedded_docs[0] ## first sentence in sent 'the glass of milk'"
   ]
  },
  {
   "cell_type": "code",
   "execution_count": 11,
   "id": "e403a613-dd8d-446d-b68d-0874d5d08e97",
   "metadata": {},
   "outputs": [
    {
     "name": "stdout",
     "output_type": "stream",
     "text": [
      "1/1 [==============================] - 0s 87ms/step\n"
     ]
    },
    {
     "data": {
      "text/plain": [
       "array([[-0.03038744,  0.01850469,  0.04297635,  0.03112287,  0.02953329,\n",
       "         0.0069404 ,  0.0069802 , -0.0387303 ,  0.01437113,  0.02293072],\n",
       "       [-0.03038744,  0.01850469,  0.04297635,  0.03112287,  0.02953329,\n",
       "         0.0069404 ,  0.0069802 , -0.0387303 ,  0.01437113,  0.02293072],\n",
       "       [-0.03038744,  0.01850469,  0.04297635,  0.03112287,  0.02953329,\n",
       "         0.0069404 ,  0.0069802 , -0.0387303 ,  0.01437113,  0.02293072],\n",
       "       [-0.03038744,  0.01850469,  0.04297635,  0.03112287,  0.02953329,\n",
       "         0.0069404 ,  0.0069802 , -0.0387303 ,  0.01437113,  0.02293072],\n",
       "       [-0.03038744,  0.01850469,  0.04297635,  0.03112287,  0.02953329,\n",
       "         0.0069404 ,  0.0069802 , -0.0387303 ,  0.01437113,  0.02293072],\n",
       "       [ 0.00242889, -0.01561313, -0.04776262,  0.02735804, -0.02853603,\n",
       "        -0.03796167,  0.01691175, -0.0379807 , -0.0071648 , -0.04197459],\n",
       "       [-0.00147576, -0.01849983, -0.02593526, -0.00266396,  0.03511072,\n",
       "         0.02277527, -0.01061299, -0.0158391 ,  0.02890087,  0.02475784],\n",
       "       [-0.00636356,  0.01230421,  0.00861275, -0.04195696,  0.00987466,\n",
       "         0.04317517,  0.02076123,  0.0414489 , -0.03945152, -0.02425128],\n",
       "       [-0.01518895,  0.00070928, -0.02861621,  0.03252408,  0.01548154,\n",
       "        -0.00867894, -0.01966478, -0.01186532,  0.00703948,  0.03131067]],\n",
       "      dtype=float32)"
      ]
     },
     "execution_count": 11,
     "metadata": {},
     "output_type": "execute_result"
    }
   ],
   "source": [
    "model.predict(pre_embedded_docs[0]) ## Each word in the sentence will have 10 dimensions"
   ]
  },
  {
   "cell_type": "markdown",
   "id": "82036034-4a2e-486f-a1df-ecfcfba8d7d1",
   "metadata": {},
   "source": [
    "### Assignment\n",
    "\n"
   ]
  },
  {
   "cell_type": "code",
   "execution_count": 12,
   "id": "13e6ef96-00dc-43f6-b9fe-3281929c2e7c",
   "metadata": {},
   "outputs": [
    {
     "data": {
      "text/plain": [
       "['The world is a better place',\n",
       " 'Marvel series is my favourite movie',\n",
       " 'I like DC movies',\n",
       " 'the cat is eating the food',\n",
       " 'Tom and Jerry is my favourite movie',\n",
       " 'Python is my favourite programming language']"
      ]
     },
     "execution_count": 12,
     "metadata": {},
     "output_type": "execute_result"
    }
   ],
   "source": [
    "corpus = [\"The world is a better place\",\n",
    "      \"Marvel series is my favourite movie\",\n",
    "      \"I like DC movies\",\n",
    "      \"the cat is eating the food\",\n",
    "      \"Tom and Jerry is my favourite movie\",\n",
    "      \"Python is my favourite programming language\"]\n",
    "corpus"
   ]
  },
  {
   "cell_type": "code",
   "execution_count": 13,
   "id": "0f0fb31d-9318-48e3-b49d-d9a27c478749",
   "metadata": {},
   "outputs": [
    {
     "data": {
      "text/plain": [
       "[[21, 89, 45, 58, 76, 22],\n",
       " [21, 86, 45, 77, 67, 40],\n",
       " [77, 51, 11, 97],\n",
       " [21, 20, 45, 86, 21, 67],\n",
       " [98, 27, 58, 45, 77, 67, 40],\n",
       " [83, 45, 77, 67, 48, 54]]"
      ]
     },
     "execution_count": 13,
     "metadata": {},
     "output_type": "execute_result"
    }
   ],
   "source": [
    "vocabulary_size = 100\n",
    "onehot_rep = [one_hot(input_text=words, n=vocabulary_size) for words in corpus]\n",
    "onehot_rep"
   ]
  },
  {
   "cell_type": "code",
   "execution_count": 14,
   "id": "7a4e5cc8-829e-4a76-854d-0bb7bc99d3ea",
   "metadata": {},
   "outputs": [
    {
     "data": {
      "text/plain": [
       "array([[21, 89, 45, 58, 76, 22,  0,  0,  0],\n",
       "       [21, 86, 45, 77, 67, 40,  0,  0,  0],\n",
       "       [77, 51, 11, 97,  0,  0,  0,  0,  0],\n",
       "       [21, 20, 45, 86, 21, 67,  0,  0,  0],\n",
       "       [98, 27, 58, 45, 77, 67, 40,  0,  0],\n",
       "       [83, 45, 77, 67, 48, 54,  0,  0,  0]])"
      ]
     },
     "execution_count": 14,
     "metadata": {},
     "output_type": "execute_result"
    }
   ],
   "source": [
    "post_padding_docs = pad_sequences(sequences=onehot_rep, maxlen=max_sent_length,padding='post')\n",
    "post_padding_docs"
   ]
  },
  {
   "cell_type": "code",
   "execution_count": 18,
   "id": "8fa06a59-0a5b-430b-92be-913ca437b8bf",
   "metadata": {},
   "outputs": [],
   "source": [
    "dim = 5\n",
    "model2 = Sequential()\n",
    "model2.add(Embedding(input_dim=vocabulary_size, output_dim=dim, input_length=max_sent_length))\n",
    "model2.compile('adam','mse')"
   ]
  },
  {
   "cell_type": "code",
   "execution_count": 19,
   "id": "004938b6-a922-4c19-98bd-6d494f68a776",
   "metadata": {},
   "outputs": [
    {
     "name": "stdout",
     "output_type": "stream",
     "text": [
      "Model: \"sequential_2\"\n",
      "_________________________________________________________________\n",
      " Layer (type)                Output Shape              Param #   \n",
      "=================================================================\n",
      " embedding_2 (Embedding)     (None, 9, 5)              500       \n",
      "                                                                 \n",
      "=================================================================\n",
      "Total params: 500\n",
      "Trainable params: 500\n",
      "Non-trainable params: 0\n",
      "_________________________________________________________________\n"
     ]
    }
   ],
   "source": [
    "model2.summary()"
   ]
  },
  {
   "cell_type": "code",
   "execution_count": 21,
   "id": "8aecc370-0fc5-4e3c-839a-2dd04f54508b",
   "metadata": {},
   "outputs": [
    {
     "name": "stdout",
     "output_type": "stream",
     "text": [
      "1/1 [==============================] - 0s 49ms/step\n"
     ]
    },
    {
     "data": {
      "text/plain": [
       "array([[ 0.04426196, -0.00023454,  0.03833333,  0.04403989, -0.02409847],\n",
       "       [ 0.02309952, -0.02768748,  0.02415853, -0.00664582, -0.02300026],\n",
       "       [ 0.02372183,  0.02919609,  0.02599997, -0.01651946,  0.0162328 ],\n",
       "       [-0.02650467,  0.03954666, -0.01543214,  0.02306311, -0.01176028],\n",
       "       [ 0.02516413, -0.02481567, -0.02657212, -0.02440155,  0.01934316],\n",
       "       [ 0.000244  ,  0.0107279 , -0.04969523, -0.03285037, -0.03992555],\n",
       "       [ 0.01008104,  0.03982894,  0.04301873,  0.02121538, -0.01328218],\n",
       "       [ 0.01008104,  0.03982894,  0.04301873,  0.02121538, -0.01328218],\n",
       "       [ 0.01008104,  0.03982894,  0.04301873,  0.02121538, -0.01328218]],\n",
       "      dtype=float32)"
      ]
     },
     "execution_count": 21,
     "metadata": {},
     "output_type": "execute_result"
    }
   ],
   "source": [
    "model2.predict(post_padding_docs[0])"
   ]
  },
  {
   "cell_type": "code",
   "execution_count": null,
   "id": "176b78ac-befd-48a8-b6b1-029ea4b8be99",
   "metadata": {},
   "outputs": [],
   "source": []
  }
 ],
 "metadata": {
  "kernelspec": {
   "display_name": "Python 3 (ipykernel)",
   "language": "python",
   "name": "python3"
  },
  "language_info": {
   "codemirror_mode": {
    "name": "ipython",
    "version": 3
   },
   "file_extension": ".py",
   "mimetype": "text/x-python",
   "name": "python",
   "nbconvert_exporter": "python",
   "pygments_lexer": "ipython3",
   "version": "3.9.12"
  }
 },
 "nbformat": 4,
 "nbformat_minor": 5
}
