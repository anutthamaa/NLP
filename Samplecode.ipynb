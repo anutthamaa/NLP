{
 "cells": [
  {
   "cell_type": "code",
   "execution_count": null,
   "id": "9307fbcf-08e3-4d82-a94b-a0e003f90431",
   "metadata": {},
   "outputs": [],
   "source": []
  },
  {
   "cell_type": "code",
   "execution_count": 33,
   "id": "ead65ace-7906-4058-84f0-ca2b67325455",
   "metadata": {
    "collapsed": true,
    "jupyter": {
     "outputs_hidden": true
    },
    "tags": []
   },
   "outputs": [
    {
     "data": {
      "text/plain": [
       "'\\nThe rise of e-health, or the use of electronic means to facilitate health care, has been a major development in the healthcare industry in recent years. The use of technology to improve access to healthcare and make it more efficient has the potential to revolutionize the way we think about healthcare and its delivery. By 2030, it is likely that e-health will have a significant impact on the way we receive and provide healthcare, and this essay will explore the potential impacts of e-health on humans by that year.\\nOne of the main benefits of e-health is the increased access it provides to healthcare services. With the use of telemedicine and other remote care technologies, patients can receive care from anywhere with an internet connection. This can be particularly beneficial for those who live in rural or underserved areas, where access to healthcare providers may be limited. It can also be useful for those with mobility issues or disabilities that make it difficult for them to visit a healthcare facility in person. By 2030, it is likely that the use of telemedicine and other remote care technologies will become even more widespread, potentially leading to a decrease in healthcare disparities and an increase in access to care for those who may have previously had difficulty accessing it.\\nIn addition to increasing access to care, e-health has the potential to improve the efficiency of the healthcare system. By using electronic medical records and other digital technologies, healthcare providers can more easily share and access patient information, streamlining the process of providing care. This can lead to more accurate diagnoses and treatment plans, and potentially reduce the need for unnecessary or redundant tests and procedures. By 2030, it is likely that the use of electronic medical records and other digital technologies will become even more widespread, potentially leading to a more efficient and effective healthcare system.\\nAnother potential impact of e-health by 2030 is the ability to use data analytics to improve population health. By collecting and analyzing data on patient health and healthcare utilization, healthcare providers can identify trends and patterns that may help them better understand and address the health needs of their patient populations. This could lead to the development of targeted interventions and prevention strategies that are more effective at improving population health. Additionally, the use of wearable technology and other digital health devices can help individuals track and manage their own health, potentially leading to improved health outcomes for individuals and populations.\\nWhile the potential benefits of e-health are significant, there are also potential challenges and drawbacks to consider. One concern is the potential for cybersecurity breaches, which could compromise the confidentiality and privacy of patient information. It is important for healthcare organizations to prioritize cybersecurity and ensure that appropriate measures are in place to protect patient data. Another concern is the potential for the use of e-health to exacerbate healthcare disparities, as those who are unable to afford or access the necessary technology may be left behind. Ensuring that e-health technologies are accessible and affordable to all is an important consideration as the use of e-health continues to grow.\\nIn conclusion, by 2030 it is likely that e-health will have a significant impact on the way we receive and provide healthcare. The increased access to care and improved efficiency provided by e-health technologies have the potential to revolutionize the healthcare industry and improve health outcomes for individuals and populations. However, it is important to consider and address potential challenges and drawbacks, such as cybersecurity concerns and healthcare disparities, as the use of e-health continues to grow.\\n\\n'"
      ]
     },
     "execution_count": 33,
     "metadata": {},
     "output_type": "execute_result"
    }
   ],
   "source": [
    "webpage = requests.get('https://insights.blackcoffer.com/rise-of-e-health-and-its-impact-on-humans-by-the-year-2030/').text\n",
    "soup = BeautifulSoup(webpage,'lxml')\n",
    "for j in soup.find_all('div', class_='td-post-content'):\n",
    "    for pre in j.find_all('pre'):\n",
    "        pre.extract() \n",
    "        article_content = j.text\n",
    "article_content"
   ]
  },
  {
   "cell_type": "code",
   "execution_count": 34,
   "id": "a390f619-860b-4b7d-8591-83aad7629586",
   "metadata": {
    "collapsed": true,
    "jupyter": {
     "outputs_hidden": true
    },
    "tags": []
   },
   "outputs": [
    {
     "data": {
      "text/plain": [
       "'rise health electronic facilitate health care development healthcare industry recent years technology improve access healthcare make efficient potential revolutionize healthcare delivery 2030 health significant impact receive provide healthcare essay explore potential impacts health humans benefits health increased access healthcare services telemedicine remote care technologies patients receive care internet connection beneficial live rural underserved areas access healthcare providers limited mobility issues disabilities make difficult visit healthcare facility 2030 telemedicine remote care technologies widespread potentially leading decrease healthcare disparities increase access care previously difficulty accessing addition increasing access care health potential improve efficiency healthcare system electronic medical records digital technologies healthcare providers easily share access patient information streamlining process providing care lead accurate diagnoses treatment plans potentially reduce unnecessary redundant tests procedures 2030 electronic medical records digital technologies widespread potentially leading efficient effective healthcare system potential impact health 2030 ability data analytics improve population health collecting analyzing data patient health healthcare utilization healthcare providers identify trends patterns understand address health patient populations lead development targeted interventions prevention strategies effective improving population health additionally wearable technology digital health devices individuals track manage health potentially leading improved health outcomes individuals populations potential benefits health significant potential challenges drawbacks concern potential cybersecurity breaches compromise confidentiality privacy patient information important healthcare organizations prioritize cybersecurity ensure measures protect patient data concern potential health exacerbate healthcare disparities unable afford access technology left ensuring health technologies accessible affordable important consideration health continues conclusion 2030 health significant impact receive provide healthcare increased access care improved efficiency provided health technologies potential revolutionize healthcare industry improve health outcomes individuals populations important address potential challenges drawbacks cybersecurity concerns healthcare disparities health continues'"
      ]
     },
     "execution_count": 34,
     "metadata": {},
     "output_type": "execute_result"
    }
   ],
   "source": [
    "clean_data = data_cleaning(article_content)\n",
    "clean_data"
   ]
  },
  {
   "cell_type": "code",
   "execution_count": 35,
   "id": "82350caa-6fc6-4b87-a295-867c04f51063",
   "metadata": {},
   "outputs": [
    {
     "name": "stdout",
     "output_type": "stream",
     "text": [
      "24\n"
     ]
    }
   ],
   "source": [
    "sentences = sent_tokenize(article_content)\n",
    "print(len(sentences))"
   ]
  },
  {
   "cell_type": "code",
   "execution_count": 36,
   "id": "f34cb6fb-254f-40d3-b32d-9be876b1ee70",
   "metadata": {},
   "outputs": [
    {
     "name": "stdout",
     "output_type": "stream",
     "text": [
      "269\n"
     ]
    }
   ],
   "source": [
    "words = word_tokenize(clean_data)\n",
    "print(len(words))"
   ]
  },
  {
   "cell_type": "code",
   "execution_count": 106,
   "id": "97defa3a-4107-4e1c-ae82-43230f9623c4",
   "metadata": {},
   "outputs": [
    {
     "name": "stdout",
     "output_type": "stream",
     "text": [
      "8.16\n"
     ]
    }
   ],
   "source": [
    "total_characters = sum(len(word) for word in words)\n",
    "print(round(total_characters/len(words),2))"
   ]
  },
  {
   "cell_type": "code",
   "execution_count": 70,
   "id": "0f3874f4-8e50-40ec-a37e-401c5e762be8",
   "metadata": {
    "collapsed": true,
    "jupyter": {
     "outputs_hidden": true
    },
    "tags": []
   },
   "outputs": [
    {
     "name": "stdout",
     "output_type": "stream",
     "text": [
      "This: 1 syllable(s)\n",
      "is: 1 syllable(s)\n",
      "a: 1 syllable(s)\n",
      "sample: 2 syllable(s)\n",
      "sentence: 2 syllable(s)\n",
      "with: 1 syllable(s)\n",
      "complex: 2 syllable(s)\n",
      "words: 1 syllable(s)\n",
      "like: 1 syllable(s)\n",
      "extraordinary: 6 syllable(s)\n",
      "and: 1 syllable(s)\n",
      "syllables: 2 syllable(s)\n",
      ".: 0 syllable(s)\n",
      "Processed: 1 syllable(s)\n",
      "words: 1 syllable(s)\n",
      "include: 2 syllable(s)\n",
      "baked: 0 syllable(s)\n",
      ",: 0 syllable(s)\n",
      "kisses: 1 syllable(s)\n",
      ",: 0 syllable(s)\n",
      "and: 1 syllable(s)\n",
      "coded: 1 syllable(s)\n",
      ".: 0 syllable(s)\n"
     ]
    }
   ],
   "source": [
    "pronouncing_dict = cmudict.dict()\n",
    "\n",
    "# Function to count the number of syllables in a word while handling exceptions\n",
    "def count_syllables(word):\n",
    "    # Define a list of exceptions for words ending with \"es\" or \"ed\"\n",
    "    exceptions = [\"es\", \"ed\"]\n",
    "   \n",
    "    count = 0\n",
    "    \n",
    "    # Use the CMU Pronouncing Dictionary to count syllables\n",
    "    if word.lower() in pronouncing_dict:\n",
    "        count = max([len(list(y for y in x if y[-1].isdigit())) for x in pronouncing_dict[word.lower()]])\n",
    "        for exception in exceptions:\n",
    "            if word.lower().endswith(exception):\n",
    "                count = count - 1\n",
    "        return count\n",
    "    else:\n",
    "        # If the word is not found in the dictionary, return a default count of 1\n",
    "        return count\n",
    "\n",
    "# Sample text\n",
    "text = \"This is a sample sentence with complex words like extraordinary and syllables. Processed words include baked, kisses, and coded.\"\n",
    "\n",
    "# Tokenize the text into words\n",
    "words = nltk.word_tokenize(text)\n",
    "\n",
    "# Count the number of syllables in each word while handling exceptions\n",
    "syllable_counts = [count_syllables(word) for word in words]\n",
    "\n",
    "# Print the word and its syllable count\n",
    "for word, syllables in zip(words, syllable_counts):\n",
    "    print(f\"{word}: {syllables} syllable(s)\")"
   ]
  },
  {
   "cell_type": "code",
   "execution_count": 97,
   "id": "cfb92825-2781-41a0-9d90-9da462fc9fbd",
   "metadata": {
    "tags": []
   },
   "outputs": [
    {
     "name": "stdout",
     "output_type": "stream",
     "text": [
      "831\n"
     ]
    }
   ],
   "source": [
    "def count_syllables(word):\n",
    "    # Define a list of exceptions for words ending with \"es\" or \"ed\"\n",
    "    exceptions = [\"es\", \"ed\"]\n",
    "    \n",
    "    # Check if the word ends with any exception and exclude it from the count\n",
    "  \n",
    "    \n",
    "    # Count the number of vowels (excluding consecutive vowels)\n",
    "    vowels = \"aeiouAEIOU\"\n",
    "    vowel_count = 0\n",
    "    prev_char = ''\n",
    "    \n",
    "    for char in word:\n",
    "        if char in vowels:\n",
    "            vowel_count += 1\n",
    "        prev_char = char\n",
    "        \n",
    "    for exception in exceptions:\n",
    "        if word.lower().endswith(exception):\n",
    "            vowel_count = vowel_count - 1\n",
    "    \n",
    "    return vowel_count\n",
    "\n",
    "# Sample text\n",
    "text = clean_data\n",
    "\n",
    "# Tokenize the text into words\n",
    "words = nltk.word_tokenize(text)\n",
    "\n",
    "# Count the number of syllables (counting all vowels except 'es' and 'ed') in each word while handling exceptions\n",
    "syllable_counts = [count_syllables(word) for word in words]\n",
    "\n",
    "# Print the word and its syllable count\n",
    "#for word, syllables in zip(words, syllable_counts):\n",
    "    #print(f\"{word}: {syllables} syllable(s)\")\n",
    "print(sum(syllable_counts))"
   ]
  }
 ],
 "metadata": {
  "kernelspec": {
   "display_name": "Python 3 (ipykernel)",
   "language": "python",
   "name": "python3"
  },
  "language_info": {
   "codemirror_mode": {
    "name": "ipython",
    "version": 3
   },
   "file_extension": ".py",
   "mimetype": "text/x-python",
   "name": "python",
   "nbconvert_exporter": "python",
   "pygments_lexer": "ipython3",
   "version": "3.9.12"
  }
 },
 "nbformat": 4,
 "nbformat_minor": 5
}
